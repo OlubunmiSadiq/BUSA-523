{
 "cells": [
  {
   "cell_type": "code",
   "execution_count": 10,
   "id": "96bcc4d0",
   "metadata": {},
   "outputs": [
    {
     "name": "stdout",
     "output_type": "stream",
     "text": [
      " \n",
      "Guess  1\n",
      "  Guess a number (1 - 20) : 20\n",
      "Guess  2\n",
      "  Guess a number (1 - 20) : 1\n",
      "Guess  3\n",
      "  Guess a number (1 - 20) : 40\n",
      "Guess  4\n",
      "  Guess a number (1 - 20) : 12\n",
      "Guess  5\n",
      "  Guess a number (1 - 20) : 15\n",
      "\n",
      "You lost\n",
      "The number was  16\n"
     ]
    }
   ],
   "source": [
    "# Q1\n",
    "import random\n",
    "\n",
    "#Generating random number between\n",
    "# the numbers 1 and 20\n",
    "x = random.randint(1, 20)\n",
    "\n",
    "#Keep count of the number of guesses\n",
    "count = 0\n",
    "print(' ')\n",
    "\n",
    "#Loop until user guesses the correct number\n",
    "while count < 5:\n",
    "    count += 1\n",
    "    print('Guess ', count)\n",
    "    #Taking guessing number as input\n",
    "    guess = int(input(\"  Guess a number (1 - 20) : \"))\n",
    "\n",
    "    # Condition testing\n",
    "    if x == guess:\n",
    "        print(\"\\nCongratulations!\",count, \" guesses.\")\n",
    "        # Once guessed, loop will break\n",
    "        exit(0)\n",
    "print('\\nYou lost')\n",
    "print('The number was ', x)"
   ]
  },
  {
   "cell_type": "code",
   "execution_count": 11,
   "id": "1b89eb0c",
   "metadata": {},
   "outputs": [
    {
     "name": "stdout",
     "output_type": "stream",
     "text": [
      "You will get 5 attempt to guess the number between 1 and 20.\n",
      "Attempt  1: 1\n",
      "Guess should be higher\n",
      "Attempt  2: 20\n",
      "Guess should be lower\n",
      "Attempt  3: 15\n",
      "Guess should be lower\n",
      "Attempt  4: 10\n",
      "Guess should be higher\n",
      "Attempt  5: 9\n",
      "Guess should be higher\n",
      "You lose\n"
     ]
    }
   ],
   "source": [
    "# Q2\n",
    "import random\n",
    "\n",
    "number = random.randint(1, 20)\n",
    "guessed = 0\n",
    "print(\"You will get 5 attempt to guess the number between 1 and 20.\")\n",
    "while True:\n",
    "    guessed += 1\n",
    "    print(\"Attempt \", guessed, end=\": \")\n",
    "    guess = int(input())\n",
    "    if guess < number:\n",
    "        print(\"Guess should be higher\")\n",
    "    if guess > number:\n",
    "        print(\"Guess should be lower\")\n",
    "    if guess == number:\n",
    "        print(\"You win\")\n",
    "        break\n",
    "    if guessed == 5:\n",
    "        print(\"You lose\")\n",
    "        break"
   ]
  },
  {
   "cell_type": "code",
   "execution_count": 9,
   "id": "3a1436dd",
   "metadata": {},
   "outputs": [
    {
     "name": "stdout",
     "output_type": "stream",
     "text": [
      "enter your move: Rock, Paper, Scissors, Lizard or Spock\n",
      "Spock\n",
      "You Win!\n"
     ]
    }
   ],
   "source": [
    "# Q3\n",
    "import random\n",
    "\n",
    "print (\"enter your move: Rock, Paper, Scissors, Lizard or Spock\")\n",
    "user = input()\n",
    "\n",
    "number = random.randint(1,5)\n",
    "\n",
    "if number == 1:\n",
    "    computer = \"Rock\"\n",
    "elif number == 2:\n",
    "    computer = \"Paper\"\n",
    "elif number == 3:\n",
    "    computer = \"Scissors\"\n",
    "elif number == 4:\n",
    "    computer = \"Lizard\"\n",
    "elif number == 5:\n",
    "    computer = \"Spock\"\n",
    "    \n",
    "    \n",
    "if user == computer:\n",
    "    print(\"Tie\")\n",
    "elif user == \"Rock\" and computer == \"Scissors\": \n",
    "    print(\"You Win!\")\n",
    "elif user == \"Rock\" and computer == \"Lizard\":\n",
    "    print(\"You Win!\")\n",
    "elif user == \"Lizard\" and computer == \"Spock\":\n",
    "    print(\"You Win!\")\n",
    "elif user == \"Lizard\" and computer == \"Paper\":\n",
    "    print(\"You Win!\")\n",
    "elif user == \"Spock\" and computer == \"Scissors\":\n",
    "    print(\"You Win!\")\n",
    "elif user == \"Spock\" and computer == \"Rock\":\n",
    "    print(\"You Win!\")\n",
    "elif user == \"Scissors\" and computer == \"Paper\":\n",
    "    print(\"You Win!\")\n",
    "elif user == \"Scissors\" and computer == \"Lizard\":\n",
    "    print(\"You Win!\")\n",
    "elif user == \"Paper\" and computer == \"Rock\":\n",
    "    print(\"You Win!\")\n",
    "elif user == \"Paper\" and computer == \"Spock\":\n",
    "    print(\"You Win!\")\n",
    "elif user == \"Rock\" and computer == \"Paper\":\n",
    "    print(\"You Lose\")\n",
    "elif user == \"Rock\" and computer == \"Spock\":\n",
    "    print(\"You Lose\")\n",
    "elif user == \"Scissors\" and computer == \"Spock\":\n",
    "    print(\"You Lose\")\n",
    "elif user == \"Lizard\" and computer == \"Rock\":\n",
    "    print(\"You Lose\")\n",
    "elif user == \"Lizard\" and computer == \"Scissors\":\n",
    "    print(\"You Lose\")\n",
    "elif user == \"Spock\" and computer == \"Lizard\":\n",
    "    print(\"You Lose\")\n",
    "elif user == \"Spock\" and computer == \"Paper\":\n",
    "    print(\"You Lose\")\n",
    "elif user == \"Paper\" and computer == \"Scissors\":\n",
    "    print(\"You Lose\")\n",
    "elif user == \"Paper\" and computer == \"Lizard\":\n",
    "    print(\"You Lose\")\n",
    "elif user == \"Scissors\" and computer == \"Rock\":\n",
    "    print(\"You Lose\")\n",
    "else:\n",
    "    print(\"Invalid entry\")"
   ]
  },
  {
   "cell_type": "code",
   "execution_count": null,
   "id": "089c162c",
   "metadata": {},
   "outputs": [],
   "source": []
  },
  {
   "cell_type": "code",
   "execution_count": null,
   "id": "c53e0389",
   "metadata": {},
   "outputs": [],
   "source": []
  }
 ],
 "metadata": {
  "kernelspec": {
   "display_name": "Python 3 (ipykernel)",
   "language": "python",
   "name": "python3"
  },
  "language_info": {
   "codemirror_mode": {
    "name": "ipython",
    "version": 3
   },
   "file_extension": ".py",
   "mimetype": "text/x-python",
   "name": "python",
   "nbconvert_exporter": "python",
   "pygments_lexer": "ipython3",
   "version": "3.9.7"
  }
 },
 "nbformat": 4,
 "nbformat_minor": 5
}
