{
 "cells": [
  {
   "cell_type": "code",
   "execution_count": 1,
   "id": "7f030894",
   "metadata": {},
   "outputs": [
    {
     "name": "stdout",
     "output_type": "stream",
     "text": [
      "327  streaks\n"
     ]
    }
   ],
   "source": [
    "#Question 1\n",
    "\n",
    "\n",
    "import random\n",
    "choices = ['heads','tails']\n",
    "\n",
    "def count_streaks(flips):\n",
    "    streaks, current_streak, current_count = 0,flips[0],0\n",
    "    for i in range(len(flips)):\n",
    "        if flips[i]==current_streak:\n",
    "            current_count+=1\n",
    "        else:\n",
    "            if current_count>=5:\n",
    "                streaks+=1\n",
    "            current_streak, current_count = flips[i],1 #updating current\n",
    "    return streaks\n",
    "\n",
    "flips = random.choices(choices,k=10000)\n",
    "print(count_streaks(flips), \" streaks\")"
   ]
  },
  {
   "cell_type": "code",
   "execution_count": 2,
   "id": "8d2cb922",
   "metadata": {},
   "outputs": [
    {
     "name": "stdout",
     "output_type": "stream",
     "text": [
      "Enter the number of swords: 5\n",
      "Enter the number of diamonds: 10\n",
      "Enter the number of gold coins: 6\n",
      "Enter the number of rope: 3\n",
      "Enter the number of potions: 2\n",
      "5 swords\n",
      "10 diamonds\n",
      "6 gold coins\n",
      "3 rope\n",
      "2 potions\n"
     ]
    }
   ],
   "source": [
    "#Question 2\n",
    "\n",
    "items = ['swords','diamonds','gold coins','rope','potions']\n",
    "inventory = {}\n",
    "\n",
    "for item in items:\n",
    "    inventory[item] = int(input('Enter the number of {}: '.format(item)))\n",
    "    \n",
    "\n",
    "\n",
    "for item,cnt in inventory.items():\n",
    "    print(cnt,item)"
   ]
  },
  {
   "cell_type": "code",
   "execution_count": 10,
   "id": "2134daa9",
   "metadata": {},
   "outputs": [
    {
     "name": "stdout",
     "output_type": "stream",
     "text": [
      "0\n"
     ]
    }
   ],
   "source": [
    "# Question 3\n",
    "\n",
    "import numpy as np \n",
    "#array to store the results\n",
    "arr = []\n",
    "#loop to generate 10000 flips\n",
    "for i in range(10000):\n",
    "    #generating to outputs 1 and 2\n",
    "    out = np.array([1,2])\n",
    "    #store those in array\n",
    "    arr.append(out)\n",
    "#store previous value\n",
    "prev = arr[0]\n",
    "#temp is to count streak\n",
    "temp = 1\n",
    "#ans is to count number of streaks\n",
    "ans = 0\n",
    "for i in range(1,10000):\n",
    "    #if previous output and present is same\n",
    "    #increment streak count\n",
    "    if np.all(prev==arr[i]):\n",
    "        temp+=1\n",
    "    #if not equal\n",
    "    else:\n",
    "        #if streak count greater than 5\n",
    "        if(temp>=5):\n",
    "            #increment number of streaks count\n",
    "            ans+=1\n",
    "        #again start streak count from 1\n",
    "        temp=1\n",
    "    #store previous value\n",
    "    prev = arr[i]\n",
    "#print number of streaks count\n",
    "print(ans)"
   ]
  },
  {
   "cell_type": "code",
   "execution_count": 11,
   "id": "908456ff",
   "metadata": {},
   "outputs": [
    {
     "name": "stdout",
     "output_type": "stream",
     "text": [
      "Winner for this game is Player 2\n"
     ]
    }
   ],
   "source": [
    "#Question 4\n",
    "\n",
    "\n",
    "import random\n",
    "\n",
    "\n",
    "num_iterations, num_players = 10,3\n",
    "#initializing scores to 0\n",
    "scores = [0]*num_players\n",
    "\n",
    "\n",
    "for i in range(num_iterations):\n",
    "    #every player throws the dice\n",
    "    for player in range(num_players):\n",
    "        #adding current outcome to the score of the player\n",
    "        scores[player] += random.randint(1,6)\n",
    "         #adding 1 because indexing starts from 0\n",
    "winner = max(enumerate(scores), key=lambda scores:scores[1])[0] + 1\n",
    "print('Winner for this game is Player {}'.format(winner))"
   ]
  },
  {
   "cell_type": "code",
   "execution_count": null,
   "id": "48d915c5",
   "metadata": {},
   "outputs": [],
   "source": []
  }
 ],
 "metadata": {
  "kernelspec": {
   "display_name": "Python 3 (ipykernel)",
   "language": "python",
   "name": "python3"
  },
  "language_info": {
   "codemirror_mode": {
    "name": "ipython",
    "version": 3
   },
   "file_extension": ".py",
   "mimetype": "text/x-python",
   "name": "python",
   "nbconvert_exporter": "python",
   "pygments_lexer": "ipython3",
   "version": "3.9.7"
  }
 },
 "nbformat": 4,
 "nbformat_minor": 5
}
