{
 "cells": [
  {
   "cell_type": "code",
   "execution_count": 5,
   "id": "48593d8b",
   "metadata": {},
   "outputs": [
    {
     "name": "stdout",
     "output_type": "stream",
     "text": [
      "------------\n",
      "Test Run\n",
      "------------\n",
      "Average\n",
      "First Name: Ife Last Name: Awonuga\n",
      "Counry: Somalia\n",
      "Overall Grade: 2.8 Credits Completed: 18\n",
      "Major: Economics\n",
      "------------\n",
      "Good\n",
      "First Name: Olubunmi Last Name: Sadiq\n",
      "Counry: Nigeria\n",
      "Overall Grade: 5 Credits Completed: 30\n",
      "Major: Business\n",
      "------------\n",
      "Bad\n",
      "First Name: Mohammadu Last Name: Buhari\n",
      "Counry: Uganda\n",
      "Overall Grade: 1.5 Credits Completed: 9\n",
      "Major: Mathematics\n"
     ]
    }
   ],
   "source": [
    "# QUESTION 1\n",
    "\n",
    "class StudentRecord:\n",
    "    def __init__(self,fName,lName,country,overallGrade,creditsCompleted,major):\n",
    "        self.fName = fName\n",
    "        self.lName = lName\n",
    "        self.country = country\n",
    "        self.overallGrade = overallGrade\n",
    "        self.creditsCompleted = creditsCompleted\n",
    "        self.major = major\n",
    "\n",
    "    def evaluateProgress(self):\n",
    "        if (self.overallGrade > 3) and (self.creditsCompleted > 20):\n",
    "            print('Good')\n",
    "        elif (self.overallGrade > 2.5) and ((self.creditsCompleted >= 10) and (self.creditsCompleted <= 20)):\n",
    "            print('Average')\n",
    "        else:\n",
    "            print(\"Bad\") \n",
    "\n",
    "    def displayAttributes(self):\n",
    "        print(f'First Name: {self.fName} Last Name: {self.lName}')\n",
    "        print(f'Counry: {self.country}')\n",
    "        print(f'Overall Grade: {self.overallGrade} Credits Completed: {self.creditsCompleted}')\n",
    "        print(f'Major: {self.major}')\n",
    "\n",
    "print('------------')\n",
    "print('Test Run')\n",
    "print('------------')\n",
    "sr1 = StudentRecord(fName='Ife',lName='Awonuga',country=\"Somalia\",overallGrade=2.8,creditsCompleted=18,major='Economics')\n",
    "sr1.evaluateProgress()\n",
    "sr1.displayAttributes()\n",
    "print('------------')\n",
    "sr2 = StudentRecord(fName='Olubunmi',lName='Sadiq',country=\"Nigeria\",overallGrade=5,creditsCompleted=30,major='Business')\n",
    "sr2.evaluateProgress()\n",
    "sr2.displayAttributes()\n",
    "print('------------')\n",
    "sr3 = StudentRecord(fName='Mohammadu',lName='Buhari',country=\"Uganda\",overallGrade=1.5,creditsCompleted=9,major='Mathematics')\n",
    "sr3.evaluateProgress()\n",
    "sr3.displayAttributes()\n",
    " "
   ]
  },
  {
   "cell_type": "code",
   "execution_count": 12,
   "id": "bfabe34b",
   "metadata": {},
   "outputs": [
    {
     "name": "stdout",
     "output_type": "stream",
     "text": [
      "Positives: [5, 1, 9, 3]\n",
      "Negatives: [-6, -3, -2, -8]\n"
     ]
    }
   ],
   "source": [
    "# QUESTION 2\n",
    "\n",
    "def NegPos(numbersList):\n",
    "    positive = [] \n",
    "    negative = [] \n",
    "\n",
    "    # It must multiplied by the length of list or simply O(n)\n",
    "     \n",
    "    for num in numbersList:\n",
    "        \n",
    "        if num > 0: \n",
    "            positive.append(num)  \n",
    "        elif num < 0: \n",
    "            negative.append(num) \n",
    "\n",
    "    print('Positives:',positive) \n",
    "    print('Negatives:',negative) \n",
    "\n",
    "\n",
    "numbersList = [-6,5,-3,-2,1,0,-8,9,3] \n",
    "NegPos(numbersList)\n",
    "\n",
    "# O(1) + O(1) + O(1) + O(n) + O(1) + O(1) \n",
    "# O(5) + O(n)\n",
    "# Final answer: O(n)"
   ]
  },
  {
   "cell_type": "code",
   "execution_count": 10,
   "id": "a3091fa3",
   "metadata": {},
   "outputs": [
    {
     "name": "stdout",
     "output_type": "stream",
     "text": [
      "Enter score: 18\n",
      "[(8, 11), (9, 10), (9, 11), (10, 10), (10, 11)]\n"
     ]
    }
   ],
   "source": [
    "# QUESTION 3\n",
    "\n",
    "\n",
    "def possibleWins(finalScore):\n",
    "\n",
    "    possibilities = [] \n",
    "\n",
    "    # a 'for' loop within a 'for' loop is O\n",
    "    for a in range(1,12): \n",
    "        for b in range(1,12):\n",
    "            # the lines of code below are just all O(1)\n",
    "            if ((a + b) > finalScore):\n",
    "                if ((a,b) not in possibilities) and ((b,a) not in possibilities) and ((b,a) != (11,11)) and ((a,b) != (11,11)):\n",
    "                    possibilities.append((a,b))\n",
    "\n",
    "    print(possibilities) # 1 step O(1)\n",
    "\n",
    "finalScore = int(input(\"Enter score: \")) # 1 step O(1)\n",
    "possibleWins(finalScore)\n"
   ]
  },
  {
   "cell_type": "code",
   "execution_count": 13,
   "id": "57dedb30",
   "metadata": {},
   "outputs": [
    {
     "ename": "IndentationError",
     "evalue": "unexpected indent (3683850612.py, line 2)",
     "output_type": "error",
     "traceback": [
      "\u001b[0;36m  File \u001b[0;32m\"/var/folders/mf/5ljvglz14_ndv5477vn5kwqh0000gn/T/ipykernel_3959/3683850612.py\"\u001b[0;36m, line \u001b[0;32m2\u001b[0m\n\u001b[0;31m    = O(N) : Which generally is O(N) in terms of big O\u001b[0m\n\u001b[0m    ^\u001b[0m\n\u001b[0;31mIndentationError\u001b[0m\u001b[0;31m:\u001b[0m unexpected indent\n"
     ]
    }
   ],
   "source": [
    "# QUESTION 4\n",
    "\n",
    "\n",
    "# 2: We have 1 'for' loop , Assuming it takes time N\n",
    "    = O(N) : Which generally is O(N) in terms of big O\n",
    " \n",
    "   # 3: We have two for loops. One is nested inside the other. Assuming outer loop takes time N. Then for every N in the outer loop, the inner loop will decrease by 1, Mathematically, we will have.\n",
    "= N(N-1 + N -2 + N - 3 + . . . + 2 + 1)\n",
    " \n",
    "In arithmetic series this can be taken as n(n - 1/2)  = n2 - n/2\n",
    " = O(N2) - O(N/2)\n",
    "= O(N2) in terms of Big O.\n",
    "\n",
    "\n",
    "\n",
    "\n",
    "# I am not yet so sure about this Big 0 but the assignment is due. I will get more resources so i can catch up. Thanks."
   ]
  },
  {
   "cell_type": "code",
   "execution_count": null,
   "id": "b6802c1d",
   "metadata": {},
   "outputs": [],
   "source": [
    "def loop(1st)"
   ]
  }
 ],
 "metadata": {
  "kernelspec": {
   "display_name": "Python 3 (ipykernel)",
   "language": "python",
   "name": "python3"
  },
  "language_info": {
   "codemirror_mode": {
    "name": "ipython",
    "version": 3
   },
   "file_extension": ".py",
   "mimetype": "text/x-python",
   "name": "python",
   "nbconvert_exporter": "python",
   "pygments_lexer": "ipython3",
   "version": "3.9.7"
  }
 },
 "nbformat": 4,
 "nbformat_minor": 5
}
